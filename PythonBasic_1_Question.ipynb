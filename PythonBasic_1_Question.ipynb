{
  "nbformat": 4,
  "nbformat_minor": 0,
  "metadata": {
    "colab": {
      "provenance": [],
      "include_colab_link": true
    },
    "kernelspec": {
      "name": "python3",
      "display_name": "Python 3"
    },
    "language_info": {
      "name": "python"
    }
  },
  "cells": [
    {
      "cell_type": "markdown",
      "metadata": {
        "id": "view-in-github",
        "colab_type": "text"
      },
      "source": [
        "<a href=\"https://colab.research.google.com/github/kumidayo/Prmn2023a/blob/main/PythonBasic_1_Question.ipynb\" target=\"_parent\"><img src=\"https://colab.research.google.com/assets/colab-badge.svg\" alt=\"Open In Colab\"/></a>"
      ]
    },
    {
      "cell_type": "markdown",
      "source": [
        "# 第1章 課題"
      ],
      "metadata": {
        "id": "kWc75ZFVvner"
      }
    },
    {
      "cell_type": "markdown",
      "source": [
        "## 課題1"
      ],
      "metadata": {
        "id": "bruivG-4v2Cc"
      }
    },
    {
      "cell_type": "markdown",
      "source": [
        "print関数を使って自分の情報を表示させる\n",
        "\n",
        "＜実行例＞ `b1998040 Chitose Taro`\n",
        "\n"
      ],
      "metadata": {
        "id": "OJ1NflXMv3mo"
      }
    },
    {
      "cell_type": "code",
      "execution_count": null,
      "metadata": {
        "id": "e-ns59REvalm",
        "colab": {
          "base_uri": "https://localhost:8080/"
        },
        "outputId": "b5a6c230-152b-41b9-a95a-be879f2eea57"
      },
      "outputs": [
        {
          "output_type": "stream",
          "name": "stdout",
          "text": [
            "b2222320 村元 滉明\n"
          ]
        }
      ],
      "source": [
        "# 入力用\n",
        "print(\"b2222320 村元 滉明\")\n"
      ]
    },
    {
      "cell_type": "markdown",
      "source": [
        "## 課題2"
      ],
      "metadata": {
        "id": "Y-1UjAcTwPkf"
      }
    },
    {
      "cell_type": "markdown",
      "source": [
        "int型変数`student_number`に学籍番号の数値の部分を代入し、  \n",
        "自分の情報を表示させる\n",
        "\n",
        "＜実行例＞ `b1998040 Chitose Taro`\n",
        "\n",
        "＜hint＞ 3通りあるはずです。"
      ],
      "metadata": {
        "id": "HvO1SGM4wRPg"
      }
    },
    {
      "cell_type": "code",
      "source": [
        "# 入力用\n",
        "student_number=2222320\n",
        "print(\"b\"+str(student_number)+\" muramoto\"+\" koumei\")"
      ],
      "metadata": {
        "id": "kXTNAYHLw1Mh",
        "colab": {
          "base_uri": "https://localhost:8080/"
        },
        "outputId": "a0671a8b-01bb-47e6-fc65-2dbd6197b6c5"
      },
      "execution_count": null,
      "outputs": [
        {
          "output_type": "stream",
          "name": "stdout",
          "text": [
            "b2222320 muramoto koumei\n"
          ]
        }
      ]
    },
    {
      "cell_type": "markdown",
      "source": [
        "## 課題3"
      ],
      "metadata": {
        "id": "9Tl25UnMw-Fd"
      }
    },
    {
      "cell_type": "markdown",
      "source": [
        "10から2800まで、10飛ばしの数を乱数で生成し、  \n",
        "2220000に足して、名前とともに表示させる\n",
        "\n",
        "＜実行例＞ `b2220010 Chitose Taro`"
      ],
      "metadata": {
        "id": "2WPpYUOLw_5H"
      }
    },
    {
      "cell_type": "code",
      "source": [
        "# 入力用\n",
        "import random \n",
        "num=random.randrange(10,2801,10)\n",
        "s_n=2220000\n",
        "s_n=s_n+num\n",
        "print(s_n)"
      ],
      "metadata": {
        "id": "8hxJMAqQ7uQy",
        "colab": {
          "base_uri": "https://localhost:8080/"
        },
        "outputId": "76107842-7bb6-41bf-9d71-c6049370a244"
      },
      "execution_count": null,
      "outputs": [
        {
          "output_type": "stream",
          "name": "stdout",
          "text": [
            "2221380\n"
          ]
        }
      ]
    },
    {
      "cell_type": "code",
      "source": [],
      "metadata": {
        "id": "W3GUwVRE2Tx1"
      },
      "execution_count": null,
      "outputs": []
    }
  ]
}