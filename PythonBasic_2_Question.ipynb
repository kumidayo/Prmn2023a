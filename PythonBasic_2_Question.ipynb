{
  "nbformat": 4,
  "nbformat_minor": 0,
  "metadata": {
    "colab": {
      "provenance": [],
      "toc_visible": true,
      "include_colab_link": true
    },
    "kernelspec": {
      "name": "python3",
      "display_name": "Python 3"
    },
    "language_info": {
      "name": "python"
    }
  },
  "cells": [
    {
      "cell_type": "markdown",
      "metadata": {
        "id": "view-in-github",
        "colab_type": "text"
      },
      "source": [
        "<a href=\"https://colab.research.google.com/github/kumidayo/Prmn2023a/blob/main/PythonBasic_2_Question.ipynb\" target=\"_parent\"><img src=\"https://colab.research.google.com/assets/colab-badge.svg\" alt=\"Open In Colab\"/></a>"
      ]
    },
    {
      "cell_type": "markdown",
      "source": [
        "# 第2章 課題"
      ],
      "metadata": {
        "id": "C44SsXDACtHu"
      }
    },
    {
      "cell_type": "markdown",
      "source": [
        "## 課題1"
      ],
      "metadata": {
        "id": "OnkezWHRCwr9"
      }
    },
    {
      "cell_type": "markdown",
      "source": [
        "for文を使って、以下のように出力してください"
      ],
      "metadata": {
        "id": "q32rK-cECzCl"
      }
    },
    {
      "cell_type": "markdown",
      "source": [
        "![oSFeQoX.png](https://i.imgur.com/oSFeQoX.png)"
      ],
      "metadata": {
        "id": "FxMcxznVB6cI"
      }
    },
    {
      "cell_type": "code",
      "source": [
        "# 入力用\n",
        "for i in range (0,4):\n",
        "  print(\" \"*(3-i)+\"*\"*(2*i+1))"
      ],
      "metadata": {
        "id": "iBFSsrdRC5Zt",
        "outputId": "3906cbf6-1f3f-487a-de59-3a29fdc03ccf",
        "colab": {
          "base_uri": "https://localhost:8080/"
        }
      },
      "execution_count": null,
      "outputs": [
        {
          "output_type": "stream",
          "name": "stdout",
          "text": [
            "   *\n",
            "  ***\n",
            " *****\n",
            "*******\n"
          ]
        }
      ]
    },
    {
      "cell_type": "markdown",
      "source": [
        "## 課題2"
      ],
      "metadata": {
        "id": "gIn-UqGTCagu"
      }
    },
    {
      "cell_type": "markdown",
      "source": [
        "課題1の場合を`n=4`として、nを自分で設定して出力できるようにしてください"
      ],
      "metadata": {
        "id": "ltdiEdqYDFy8"
      }
    },
    {
      "cell_type": "markdown",
      "source": [
        "＜例＞ n=5の場合  \n",
        "![o5NjugQ.png](https://imgur.com/o5NjugQ.png)"
      ],
      "metadata": {
        "id": "hw0FM8BRDHz1"
      }
    },
    {
      "cell_type": "code",
      "source": [
        "# 入力用\n",
        "print(\"段数を入力\")\n",
        "n=int(input())\n",
        "for i in range (0,n):\n",
        "  print(\" \"*(n-1-i)+\"*\"*(2*i+1))"
      ],
      "metadata": {
        "id": "upd76Tv-FrIB",
        "outputId": "4c3e7cd4-8296-4f14-8e4c-2c2c32c125ff",
        "colab": {
          "base_uri": "https://localhost:8080/"
        }
      },
      "execution_count": null,
      "outputs": [
        {
          "output_type": "stream",
          "name": "stdout",
          "text": [
            "段数を入力\n",
            "6\n",
            "     *\n",
            "    ***\n",
            "   *****\n",
            "  *******\n",
            " *********\n",
            "***********\n"
          ]
        }
      ]
    },
    {
      "cell_type": "markdown",
      "source": [
        "## 課題3"
      ],
      "metadata": {
        "id": "tLMJvwBDE7wT"
      }
    },
    {
      "cell_type": "markdown",
      "source": [
        "for文を使って、以下のように出力してください"
      ],
      "metadata": {
        "id": "vZNvWsG7E99q"
      }
    },
    {
      "cell_type": "markdown",
      "source": [
        "![oSirXec.png](https://imgur.com/oSirXec.png)"
      ],
      "metadata": {
        "id": "ijOV-ilXGDNR"
      }
    },
    {
      "cell_type": "code",
      "source": [
        "# 入力用\n",
        "for i in range (0,4):\n",
        "  print(\" \"*(3-i)+\"*\"*(2*i+1))\n",
        "for i in range (1,4):\n",
        "  print(\" \"*(i)+\"*\"*(7-2*i))"
      ],
      "metadata": {
        "id": "Q5Ob9uZpGIE3",
        "outputId": "56c63694-f79a-4400-87fe-32a9ccd829e2",
        "colab": {
          "base_uri": "https://localhost:8080/"
        }
      },
      "execution_count": null,
      "outputs": [
        {
          "output_type": "stream",
          "name": "stdout",
          "text": [
            "   *\n",
            "  ***\n",
            " *****\n",
            "*******\n",
            " *****\n",
            "  ***\n",
            "   *\n"
          ]
        }
      ]
    },
    {
      "cell_type": "markdown",
      "source": [
        "## 課題4"
      ],
      "metadata": {
        "id": "Oh7whOPkGQ3I"
      }
    },
    {
      "cell_type": "markdown",
      "source": [
        "課題3の場合を`n=4`として、nを自分で設定して出力できるようにしてください"
      ],
      "metadata": {
        "id": "PnvT8MQbGS03"
      }
    },
    {
      "cell_type": "markdown",
      "source": [
        "＜例＞ n=5の場合  \n",
        "\n",
        "![my4J17V.png](https://i.imgur.com/my4J17V.png)"
      ],
      "metadata": {
        "id": "ZujkAbVMGzhn"
      }
    },
    {
      "cell_type": "code",
      "source": [
        "# 入力用\n",
        "print(\"段数を入力\")\n",
        "n=int(input())\n",
        "for i in range (0,n):\n",
        "  print(\" \"*(n-1-i)+\"*\"*(2*i+1))\n",
        "for i in range (1,n):\n",
        "  print(\" \"*(i)+\"*\"*(2*n-1-2*i))"
      ],
      "metadata": {
        "id": "hCFNQ7mWG99u"
      },
      "execution_count": null,
      "outputs": []
    },
    {
      "cell_type": "markdown",
      "source": [
        "## 課題5"
      ],
      "metadata": {
        "id": "R2MvOK4wHJlK"
      }
    },
    {
      "cell_type": "markdown",
      "source": [
        "for文を使って、以下のように出力してください"
      ],
      "metadata": {
        "id": "ddMIUoaKHcwd"
      }
    },
    {
      "cell_type": "markdown",
      "source": [
        "![vDUi5eM.png](https://imgur.com/vDUi5eM.png)"
      ],
      "metadata": {
        "id": "CD1cVUlWHLVO"
      }
    },
    {
      "cell_type": "code",
      "source": [
        "# 入力用\n",
        "for i in range (0,4):\n",
        "  if i==3:\n",
        "    print(\"*\"*(4*i+1))\n",
        "  else:\n",
        "    print(\" \"*(3-i)+\"*\"*(2*i+1)+\" \"*(2*(3-i)-1)+\"*\"*(2*i+1))\n",
        "for i in range (1,4):\n",
        "  print(\" \"*(i)+\"*\"*(7-2*i)+\" \"*(2*(i)-1)+\"*\"*(7-2*i))"
      ],
      "metadata": {
        "id": "1pDkfJpUHd93",
        "outputId": "16fc39b9-1d5f-4de1-e825-6cac95073d89",
        "colab": {
          "base_uri": "https://localhost:8080/"
        }
      },
      "execution_count": 6,
      "outputs": [
        {
          "output_type": "stream",
          "name": "stdout",
          "text": [
            "   *     *\n",
            "  ***   ***\n",
            " ***** *****\n",
            "*************\n",
            " ***** *****\n",
            "  ***   ***\n",
            "   *     *\n"
          ]
        }
      ]
    },
    {
      "cell_type": "markdown",
      "source": [
        "## 課題6"
      ],
      "metadata": {
        "id": "oubbafOBHerl"
      }
    },
    {
      "cell_type": "markdown",
      "source": [
        "課題5の場合を`n=4`として、nを自分で設定して出力できるようにしてください"
      ],
      "metadata": {
        "id": "7SzgFdC-HzG9"
      }
    },
    {
      "cell_type": "markdown",
      "source": [
        "＜例＞ n=5の場合  \n",
        "\n",
        "![udkVlYG.png](https://imgur.com/udkVlYG.png)"
      ],
      "metadata": {
        "id": "LY8g9PVPH2OW"
      }
    },
    {
      "cell_type": "code",
      "source": [
        "# 入力用]\n",
        "print(\"段数を入力\")\n",
        "n=int(input())\n",
        "for i in range (0,n):\n",
        "  if i==n-1:\n",
        "    print(\"*\"*(4*i+1))\n",
        "  else:\n",
        "    print(\" \"*(n-1-i)+\"*\"*(2*i+1)+\" \"*(2*(n-1-i)-1)+\"*\"*(2*i+1))\n",
        "for i in range (1,n):\n",
        "  print(\" \"*(i)+\"*\"*(2*n-1-2*i)+\" \"*(2*(i)-1)+\"*\"*(2*n-1-2*i))"
      ],
      "metadata": {
        "id": "XZOK5ulbH-tu",
        "outputId": "fcb8d68a-2d75-46f1-94e2-158475787561",
        "colab": {
          "base_uri": "https://localhost:8080/"
        }
      },
      "execution_count": 7,
      "outputs": [
        {
          "output_type": "stream",
          "name": "stdout",
          "text": [
            "段数を入力\n",
            "5\n",
            "    *       *\n",
            "   ***     ***\n",
            "  *****   *****\n",
            " ******* *******\n",
            "*****************\n",
            " ******* *******\n",
            "  *****   *****\n",
            "   ***     ***\n",
            "    *       *\n"
          ]
        }
      ]
    },
    {
      "cell_type": "markdown",
      "source": [
        "## 課題7"
      ],
      "metadata": {
        "id": "ouqTUmPQIKGF"
      }
    },
    {
      "cell_type": "markdown",
      "source": [
        "for文を使って、以下のように出力してください"
      ],
      "metadata": {
        "id": "WHSxdOHuIMRM"
      }
    },
    {
      "cell_type": "markdown",
      "source": [
        "![IuP0M16.png](https://imgur.com/IuP0M16.png)"
      ],
      "metadata": {
        "id": "-G--WFTkIM8s"
      }
    },
    {
      "cell_type": "code",
      "source": [
        "# 入力用\n",
        "for i in range (0,4):\n",
        "  if i==3:\n",
        "    print(\"*\"*(4*i+1))\n",
        "  else:\n",
        "    print(\" \"*(3-i)+\"*\"*(2*i+1)+\" \"*(2*(3-i)-1)+\"*\"*(2*i+1))\n",
        "for i in range (1,4):\n",
        "  print(\" \"*(i)+\"*\"*(7-2*i)+\" \"*(2*(i)-1)+\"*\"*(7-2*i))\n",
        "for i in range (1,4):\n",
        "  if i==3:\n",
        "    print(\"*\"*(4*i+1))\n",
        "  else:\n",
        "    print(\" \"*(3-i)+\"*\"*(2*i+1)+\" \"*(2*(3-i)-1)+\"*\"*(2*i+1))\n",
        "for i in range (1,4):\n",
        "  print(\" \"*(i)+\"*\"*(7-2*i)+\" \"*(2*(i)-1)+\"*\"*(7-2*i))"
      ],
      "metadata": {
        "id": "BVXjDteuIijL",
        "outputId": "73868d4e-6ebc-4421-f3e9-a6b485352833",
        "colab": {
          "base_uri": "https://localhost:8080/"
        }
      },
      "execution_count": 8,
      "outputs": [
        {
          "output_type": "stream",
          "name": "stdout",
          "text": [
            "   *     *\n",
            "  ***   ***\n",
            " ***** *****\n",
            "*************\n",
            " ***** *****\n",
            "  ***   ***\n",
            "   *     *\n",
            "  ***   ***\n",
            " ***** *****\n",
            "*************\n",
            " ***** *****\n",
            "  ***   ***\n",
            "   *     *\n"
          ]
        }
      ]
    },
    {
      "cell_type": "markdown",
      "source": [
        "## 課題8"
      ],
      "metadata": {
        "id": "31u0ExX2IjWj"
      }
    },
    {
      "cell_type": "markdown",
      "source": [
        "課題7の場合を`n=4`として、nを自分で設定して出力できるようにしてください"
      ],
      "metadata": {
        "id": "zeOvmKarInpz"
      }
    },
    {
      "cell_type": "markdown",
      "source": [
        "＜例＞ n=5の場合  \n",
        "\n",
        "![AlTnu1k.png](https://imgur.com/AlTnu1k.png)"
      ],
      "metadata": {
        "id": "2uLR5sbKIov2"
      }
    },
    {
      "cell_type": "code",
      "source": [
        "# 入力用\n",
        "print(\"段数を入力\")\n",
        "n=int(input())\n",
        "for i in range (0,n):\n",
        "  if i==n-1:\n",
        "    print(\"*\"*(4*i+1))\n",
        "  else:\n",
        "    print(\" \"*(n-1-i)+\"*\"*(2*i+1)+\" \"*(2*(n-1-i)-1)+\"*\"*(2*i+1))\n",
        "for i in range (1,n):\n",
        "  print(\" \"*(i)+\"*\"*(2*n-1-2*i)+\" \"*(2*(i)-1)+\"*\"*(2*n-1-2*i))\n",
        "for i in range (1,n):\n",
        "  if i==n-1:\n",
        "    print(\"*\"*(4*i+1))\n",
        "  else:\n",
        "    print(\" \"*(n-1-i)+\"*\"*(2*i+1)+\" \"*(2*(n-1-i)-1)+\"*\"*(2*i+1))\n",
        "for i in range (1,n):\n",
        "  print(\" \"*(i)+\"*\"*(2*n-1-2*i)+\" \"*(2*(i)-1)+\"*\"*(2*n-1-2*i))"
      ],
      "metadata": {
        "id": "TXJaIVbYI_Cd",
        "outputId": "504e3c14-c68e-48f0-900d-6e24301b87fa",
        "colab": {
          "base_uri": "https://localhost:8080/"
        }
      },
      "execution_count": 12,
      "outputs": [
        {
          "output_type": "stream",
          "name": "stdout",
          "text": [
            "段数を入力\n",
            "8\n",
            "       *             *\n",
            "      ***           ***\n",
            "     *****         *****\n",
            "    *******       *******\n",
            "   *********     *********\n",
            "  ***********   ***********\n",
            " ************* *************\n",
            "*****************************\n",
            " ************* *************\n",
            "  ***********   ***********\n",
            "   *********     *********\n",
            "    *******       *******\n",
            "     *****         *****\n",
            "      ***           ***\n",
            "       *             *\n",
            "      ***           ***\n",
            "     *****         *****\n",
            "    *******       *******\n",
            "   *********     *********\n",
            "  ***********   ***********\n",
            " ************* *************\n",
            "*****************************\n",
            " ************* *************\n",
            "  ***********   ***********\n",
            "   *********     *********\n",
            "    *******       *******\n",
            "     *****         *****\n",
            "      ***           ***\n",
            "       *             *\n"
          ]
        }
      ]
    }
  ]
}